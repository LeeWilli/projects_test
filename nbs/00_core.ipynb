{
 "cells": [
  {
   "attachments": {},
   "cell_type": "markdown",
   "metadata": {},
   "source": [
    "# Notebook Best Practices\n",
    "\n",
    "> How to write great nbdev notebooks."
   ]
  },
  {
   "cell_type": "code",
   "execution_count": null,
   "metadata": {},
   "outputs": [],
   "source": [
    "# | default_exp core"
   ]
  },
  {
   "cell_type": "code",
   "execution_count": null,
   "metadata": {},
   "outputs": [
    {
     "data": {
      "text/markdown": [
       "<div style=\"background-color: green; width: 50px; height: 50px; margin: 10px\"></div>"
      ],
      "text/plain": [
       "<__main__.Color>"
      ]
     },
     "execution_count": null,
     "metadata": {},
     "output_type": "execute_result"
    }
   ],
   "source": [
    "class Color:\n",
    "    def __init__(self, color):\n",
    "        self.color = color\n",
    "\n",
    "    def _repr_markdown_(self):\n",
    "        style = (\n",
    "            f\"background-color: {self.color}; width: 50px; height: 50px; margin: 10px\"\n",
    "        )\n",
    "        return f'<div style=\"{style}\"></div>'\n",
    "\n",
    "\n",
    "Color(\"green\")"
   ]
  },
  {
   "cell_type": "code",
   "execution_count": null,
   "metadata": {},
   "outputs": [],
   "source": [
    "# | hide\n",
    "from __future__ import annotations\n",
    "from nbdev.showdoc import *\n",
    "from fastcore.test import *"
   ]
  },
  {
   "cell_type": "code",
   "execution_count": null,
   "metadata": {},
   "outputs": [],
   "source": [
    "def inc(x):\n",
    "    return x + 1\n",
    "\n",
    "\n",
    "test_eq(inc(3), 4)\n",
    "\n",
    "\n",
    "def divide(x, y):\n",
    "    return x / y\n",
    "\n",
    "\n",
    "test_fail(lambda: divide(1, 0), contains=\"division by zero\")"
   ]
  },
  {
   "cell_type": "code",
   "execution_count": null,
   "metadata": {},
   "outputs": [],
   "source": [
    "# | export\n",
    "class Number:\n",
    "    \"A number.\"\n",
    "\n",
    "    def __init__(self, num):\n",
    "        self.num = num\n",
    "\n",
    "    def __add__(self, other):\n",
    "        \"Sum of this and `other`.\"\n",
    "        return Number(self.num + other.num)\n",
    "\n",
    "    def __repr__(self):\n",
    "        return f\"Number({self.num})\""
   ]
  },
  {
   "cell_type": "code",
   "execution_count": null,
   "metadata": {},
   "outputs": [
    {
     "data": {
      "text/markdown": [
       "---\n",
       "\n",
       "### Number.__add__\n",
       "\n",
       ">      Number.__add__ (other)\n",
       "\n",
       "Sum of this and `other`."
      ],
      "text/plain": [
       "---\n",
       "\n",
       "### Number.__add__\n",
       "\n",
       ">      Number.__add__ (other)\n",
       "\n",
       "Sum of this and `other`."
      ]
     },
     "execution_count": null,
     "metadata": {},
     "output_type": "execute_result"
    }
   ],
   "source": [
    "show_doc(Number.__add__)\n"
   ]
  },
  {
   "cell_type": "code",
   "execution_count": null,
   "metadata": {},
   "outputs": [
    {
     "data": {
      "text/plain": [
       "Number(9)"
      ]
     },
     "execution_count": null,
     "metadata": {},
     "output_type": "execute_result"
    }
   ],
   "source": [
    "Number(5) + Number(4)"
   ]
  },
  {
   "attachments": {},
   "cell_type": "markdown",
   "metadata": {},
   "source": [
    "## All together"
   ]
  },
  {
   "cell_type": "code",
   "execution_count": null,
   "metadata": {},
   "outputs": [],
   "source": [
    "# | hide\n",
    "import numpy as np\n",
    "\n",
    "\n",
    "# | export\n",
    "def all(\n",
    "    a,  # Input array or object that can be converted to an array.\n",
    "    axis: int\n",
    "    | tuple\n",
    "    | None = None,  # Axis or axes along which a logical AND reduction is performed (default: all).\n",
    "    out: np.ndarray\n",
    "    | None = None,  # Alternate output array in which to place the result.\n",
    "    keepdims: bool = np._NoValue,  # Leave reduced one-dimensional axes in the result?\n",
    "    where=np._NoValue,  # Elements to include in reduction. See `numpy.ufunc.reduce` for details. New in version 1.20.0.\n",
    ") -> (\n",
    "    np.ndarray | bool\n",
    "):  # A new boolean or array, or a reference to `out` if its specified.\n",
    "    \"Test whether all array elements along a given axis evaluate to `True`.\"\n",
    "    ..."
   ]
  },
  {
   "cell_type": "code",
   "execution_count": null,
   "metadata": {},
   "outputs": [],
   "source": [
    "class MyArray(np.ndarray):\n",
    "    def all(self, axis=None, out=None):\n",
    "        ..."
   ]
  },
  {
   "cell_type": "code",
   "execution_count": null,
   "metadata": {},
   "outputs": [],
   "source": [
    "x = [[True, False], [True, True]]\n",
    "y = MyArray((2, 2))\n",
    "y[:] = x\n",
    "np.all(y)  # No TypeError since `keepdims` isn't passed\n",
    "test_fail(\n",
    "    lambda: np.all(y, keepdims=True),\n",
    "    contains=\"all() got an unexpected keyword argument 'keepdims'\",\n",
    ")"
   ]
  },
  {
   "cell_type": "code",
   "execution_count": null,
   "metadata": {},
   "outputs": [],
   "source": [
    "# | hide\n",
    "import nbdev\n",
    "\n",
    "nbdev.nbdev_export()"
   ]
  },
  {
   "cell_type": "code",
   "execution_count": null,
   "metadata": {},
   "outputs": [],
   "source": [
    "# | export\n",
    "def say_hello(to):\n",
    "    \"Say hello to somebody\"\n",
    "    return f\"Hello {to}!\""
   ]
  },
  {
   "cell_type": "code",
   "execution_count": null,
   "metadata": {},
   "outputs": [
    {
     "data": {
      "text/plain": [
       "'Hello Isaac!'"
      ]
     },
     "execution_count": null,
     "metadata": {},
     "output_type": "execute_result"
    }
   ],
   "source": [
    "say_hello(\"Isaac\")\n"
   ]
  }
 ],
 "metadata": {
  "kernelspec": {
   "display_name": "Python 3 (ipykernel)",
   "language": "python",
   "name": "python3"
  }
 },
 "nbformat": 4,
 "nbformat_minor": 4
}
